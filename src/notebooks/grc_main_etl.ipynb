{
 "cells": [
  {
   "cell_type": "markdown",
   "id": "af2286bb",
   "metadata": {},
   "source": [
    "Esse notebook tem como finalidade explorar o funcionamento do Website da Prefeitura de Caçador para a extração dos dados de noticias de saúde.\n",
    "\n",
    "Next Steps:\n",
    "\n",
    "1. Trabalhar com a paginação das noticias anteriores ao header da página principal.\n",
    "2. Criação da classe de ingestão de dados."
   ]
  },
  {
   "cell_type": "code",
   "execution_count": null,
   "id": "139ae822",
   "metadata": {},
   "outputs": [],
   "source": [
    "import os\n",
    "import json\n",
    "import boto3\n",
    "import requests\n",
    "from time import sleep\n",
    "from bs4 import BeautifulSoup\n",
    "from pytz import timezone\n",
    "from datetime import datetime"
   ]
  },
  {
   "cell_type": "code",
   "execution_count": null,
   "id": "474b4cb0",
   "metadata": {},
   "outputs": [],
   "source": [
    "AWS_BUCKET_NAME = os.getenv(\"AWS_BUCKET_NAME\")\n",
    "AWS_LANDING_PATH = os.getenv(\"AWS_LANDING_PATH\")"
   ]
  },
  {
   "cell_type": "markdown",
   "id": "eb1a96d0",
   "metadata": {},
   "source": [
    "### Coletar os Posts nível Header"
   ]
  },
  {
   "cell_type": "code",
   "execution_count": 3,
   "id": "2650e192",
   "metadata": {},
   "outputs": [],
   "source": [
    "website_painel_noticias = \"https://cacador.sc.gov.br/pagina-27075-2/pagina-8577/pagina-8577-not/\"\n",
    "\n",
    "response = requests.get(website_painel_noticias)\n",
    "soup = BeautifulSoup(response.text, \"html.parser\")\n",
    "posts = soup.find(\"div\", {\"class\": \"posts\"})\n",
    "posts = posts.find_all(\"div\", {\"class\": \"post-item\"})"
   ]
  },
  {
   "cell_type": "code",
   "execution_count": 4,
   "id": "e66c523d",
   "metadata": {},
   "outputs": [],
   "source": [
    "posts_header = []\n",
    "\n",
    "for post in posts:\n",
    "    post_link = post.find(\"a\", {\"class\": \"link\"}).attrs[\"href\"]\n",
    "    post_title = \" \".join(post.find(\"h6\").text.split())\n",
    "\n",
    "    posts_header.append({\"link\": post_link, \"title\": post_title})\n"
   ]
  },
  {
   "cell_type": "code",
   "execution_count": 5,
   "id": "d0312677",
   "metadata": {},
   "outputs": [
    {
     "data": {
      "text/plain": [
       "[{'link': 'https://cacador.sc.gov.br/saude-de-cacador-implementa-o-planificasus-para-a-qualificacao-do-atendimento-ao-publico/',\n",
       "  'title': 'Saúde de Caçador implementa o PlanificaSUS, para a qualificação do atendimento ao público'},\n",
       " {'link': 'https://cacador.sc.gov.br/prefeitura-de-cacador-realiza-o-dia-d-da-campanha-de-vacinacao-contra-a-gripe-no-dia-10-de-maio/',\n",
       "  'title': 'Prefeitura de Caçador realiza o Dia D da Campanha de Vacinação contra a gripe, no dia 10 de maio'},\n",
       " {'link': 'https://cacador.sc.gov.br/prefeitura-de-cacador-implanta-atualizacao-no-protocolo-de-acolhimento-de-risco-na-upa/',\n",
       "  'title': 'Prefeitura de Caçador implanta atualização no protocolo de acolhimento de risco na UPA'}]"
      ]
     },
     "execution_count": 5,
     "metadata": {},
     "output_type": "execute_result"
    }
   ],
   "source": [
    "posts_header[:3]"
   ]
  },
  {
   "cell_type": "markdown",
   "id": "a8c307c9",
   "metadata": {},
   "source": [
    "### Coletar os Detalhes dos Posts"
   ]
  },
  {
   "cell_type": "code",
   "execution_count": 6,
   "id": "796bc151",
   "metadata": {},
   "outputs": [],
   "source": [
    "posts_details = []\n",
    "for post in posts_header:\n",
    "    response = requests.get(post[\"link\"])\n",
    "    soup = BeautifulSoup(response.text, \"html.parser\")\n",
    "\n",
    "    post_date = soup.find(\"span\", {\"class\": \"posted-on\"}).time.attrs[\"datetime\"]\n",
    "    post_content = \" \".join(soup.find(\"div\", {\"class\": \"entry-content clearfix\"}).text.split())\n",
    "\n",
    "    posts_details.append(\n",
    "        post | {\n",
    "            \"posted_on\": post_date,\n",
    "            \"content\": post_content\n",
    "        }\n",
    "    )\n",
    "\n",
    "    sleep(2)\n",
    "\n",
    "posts_details = [p | {\"scrap_date\": datetime.now(timezone(\"America/Sao_Paulo\")).strftime(\"%Y-%m-%dT%H:%M:%S\")} for p in posts_details]"
   ]
  },
  {
   "cell_type": "code",
   "execution_count": 7,
   "id": "ca735a1c",
   "metadata": {},
   "outputs": [
    {
     "data": {
      "text/plain": [
       "[{'link': 'https://cacador.sc.gov.br/saude-de-cacador-implementa-o-planificasus-para-a-qualificacao-do-atendimento-ao-publico/',\n",
       "  'title': 'Saúde de Caçador implementa o PlanificaSUS, para a qualificação do atendimento ao público',\n",
       "  'posted_on': '2025-04-29T18:15:01-03:00',\n",
       "  'content': 'A Prefeitura de Caçador, através da Secretaria de Saúde, iniciou o PlanificaSUS, que é um projeto do Ministério da Saúde para a qualificação dos atendimentos nas unidades de Saúde do município. Com apoio do Hospital Israelita Albert Einstein, o programa está ajudando as Equipes de Saúde da Família (ESFs) a organizar o trabalho. Nesta primeira etapa, chamada de Ciclo 1, as equipes estão participando de treinamentos para: Organizar melhor as famílias atendidas por cada equipe; Garantir mais segurança no atendimento; Fortalecer o relacionamento com a comunidade. O objetivo é facilitar o acesso, resolver problemas com mais eficiência e oferecer cuidados mais próximos das necessidades de cada pessoa.',\n",
       "  'scrap_date': '2025-06-01T14:55:57'},\n",
       " {'link': 'https://cacador.sc.gov.br/prefeitura-de-cacador-realiza-o-dia-d-da-campanha-de-vacinacao-contra-a-gripe-no-dia-10-de-maio/',\n",
       "  'title': 'Prefeitura de Caçador realiza o Dia D da Campanha de Vacinação contra a gripe, no dia 10 de maio',\n",
       "  'posted_on': '2025-04-23T17:06:05-03:00',\n",
       "  'content': 'A Prefeitura de Caçador, através da Secretaria de Saúde, realiza o Dia D da Campanha de Vacinação contra a gripe (influenza), no dia 10 de maio. Neste mesmo dia, a vacinação será liberada para todos a partir de 6 meses de idade, sem contraindicação. A ação acontece das 8h às 17h, nos postos com sala de vacinação. O público alvo da campanha deste ano é de 22 mil pessoas, porém, até o momento, apenas 3.223 doses foram aplicadas. Confira os postos de Saúde com sala de vacinação: Central; Jonas Ramos; Bom Sucesso; Martello; CAIC; Municípios; Santa Catarina Taquara Verde. Campanha de Vacinação A campanha já iniciou e está disponível ao grupo prioritário, que são gestantes, puérperas, idosos, profissionais da saúde, de segurança, caminhoneiros, trabalhadores dos Correios, além de pessoas com comorbidades. As vacinas estão disponíveis nos postos de saúde com sala de vacinação, de segunda a sexta-feira, das 8h15 às 11h45 e das 13h15 às 16h45. Para as pessoas que não podem durante o dia, podem se vacinar das 18h às 22h, na: Segunda-feira no Posto Santa Catarina Terça e quinta-feira no Posto CAIC Quarta e sexta-feira no Posto Central',\n",
       "  'scrap_date': '2025-06-01T14:55:57'},\n",
       " {'link': 'https://cacador.sc.gov.br/prefeitura-de-cacador-implanta-atualizacao-no-protocolo-de-acolhimento-de-risco-na-upa/',\n",
       "  'title': 'Prefeitura de Caçador implanta atualização no protocolo de acolhimento de risco na UPA',\n",
       "  'posted_on': '2025-04-17T18:31:00-03:00',\n",
       "  'content': 'A Prefeitura de Caçador, através da Secretaria de Saúde, implementou uma atualização no protocolo de classificação de risco, feita pelo Governo do Estado, agora denominado “Protocolo Catarinense de Acolhimento com Classificação de Risco (PCACR), na Unidade de Pronto Atendimento de Caçador (UPA). A medida marca um avanço na gestão de atendimentos de urgência. “Esse é um protocolo que complementa nosso processo de triagem, através de uma fundamentação científica, sendo uma ferramenta essencial para apoiar enfermeiros na classificação de risco e médicos de emergência, compreendendo melhor o fluxogramas especializados em áreas clínicas, cirúrgicas, odontológicas, pediátricas, psiquiátricas e obstétricas”, afirma o coordenador da UPA, Lincoln Bastiani. O principal objetivo do protocolo é capacitar os profissionais encarregados da classificação nas emergências hospitalares e UPAs, proporcionando uma avaliação eficiente dos pacientes. “A padronização de um protocolo de acolhimento com classificação de risco nas portas de urgência e emergência proporciona um atendimento rápido, efetivo, e humanizado, resultando na maior assertividade em cada caso”, finaliza Lincoln.',\n",
       "  'scrap_date': '2025-06-01T14:55:57'}]"
      ]
     },
     "execution_count": 7,
     "metadata": {},
     "output_type": "execute_result"
    }
   ],
   "source": [
    "posts_details[:3]"
   ]
  },
  {
   "cell_type": "markdown",
   "id": "c92abf88",
   "metadata": {},
   "source": [
    "#### Enviar os dados ao S3"
   ]
  },
  {
   "cell_type": "code",
   "execution_count": null,
   "id": "df35ec10",
   "metadata": {},
   "outputs": [],
   "source": [
    "client = boto3.client(\n",
    "    \"s3\",\n",
    "    region_name=\"us-east-2\",\n",
    ")\n",
    "\n",
    "file_name = \"test_\" + datetime.now(timezone(\"America/Sao_Paulo\")).strftime(\"%Y%m%d_%H%M%S\")\n",
    "\n",
    "client.put_object(\n",
    "    Bucket=AWS_BUCKET_NAME,\n",
    "    Key=f\"{AWS_LANDING_PATH}/2025/01/02/{file_name}.json\",\n",
    "    Body=json.dumps(posts_details)\n",
    ")"
   ]
  },
  {
   "cell_type": "markdown",
   "id": "4c1bbc2c",
   "metadata": {},
   "source": [
    "#### Classe de Ingestão de Dados"
   ]
  },
  {
   "cell_type": "code",
   "execution_count": 99,
   "id": "0a55a829",
   "metadata": {},
   "outputs": [],
   "source": [
    "class ScrapyData():\n",
    "    def __init__(\n",
    "        self\n",
    "    ):\n",
    "        pass\n",
    "\n",
    "    def scrapy_post_header(self):\n",
    "        ...\n",
    "\n",
    "    def scrapy_post_detail(self):\n",
    "        ...\n",
    "\n",
    "    def execute_pipeline(self):\n",
    "        ...\n",
    "\n",
    "class S3Ingestion(ScrapyData):\n",
    "    ..."
   ]
  }
 ],
 "metadata": {
  "kernelspec": {
   "display_name": "noticias",
   "language": "python",
   "name": "python3"
  },
  "language_info": {
   "codemirror_mode": {
    "name": "ipython",
    "version": 3
   },
   "file_extension": ".py",
   "mimetype": "text/x-python",
   "name": "python",
   "nbconvert_exporter": "python",
   "pygments_lexer": "ipython3",
   "version": "3.10.12"
  }
 },
 "nbformat": 4,
 "nbformat_minor": 5
}
